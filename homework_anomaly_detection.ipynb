{
 "cells": [
  {
   "cell_type": "code",
   "execution_count": 1,
   "metadata": {},
   "outputs": [
    {
     "name": "stderr",
     "output_type": "stream",
     "text": [
      "/Users/elisawolia/Library/Python/3.9/lib/python/site-packages/urllib3/__init__.py:34: NotOpenSSLWarning: urllib3 v2 only supports OpenSSL 1.1.1+, currently the 'ssl' module is compiled with 'LibreSSL 2.8.3'. See: https://github.com/urllib3/urllib3/issues/3020\n",
      "  warnings.warn(\n"
     ]
    }
   ],
   "source": [
    "import torch\n",
    "import torch.nn as nn\n",
    "import torchvision.transforms as transforms\n",
    "import pandas as pd\n",
    "import seaborn as sns\n",
    "import matplotlib.pyplot as plt\n",
    "\n",
    "from sklearn.metrics import accuracy_score, precision_score, recall_score, f1_score, confusion_matrix\n",
    "from torchvision.datasets import ImageFolder\n",
    "from torch.utils.data import DataLoader, Dataset, random_split\n",
    "\n",
    "from model.autoencoder import Autoencoder"
   ]
  },
  {
   "cell_type": "code",
   "execution_count": 2,
   "metadata": {},
   "outputs": [
    {
     "name": "stdout",
     "output_type": "stream",
     "text": [
      "2.1.2\n",
      "cpu\n"
     ]
    }
   ],
   "source": [
    "EPOCHS = 20\n",
    "BATCH_SIZE = 64\n",
    "DEVICE = (\"cuda\" if torch.cuda.is_available() else \"cpu\")\n",
    "\n",
    "torch.seed = 42\n",
    "\n",
    "print(torch.__version__)\n",
    "print(DEVICE)"
   ]
  },
  {
   "cell_type": "code",
   "execution_count": 3,
   "metadata": {},
   "outputs": [],
   "source": [
    "Transform = transforms.Compose([\n",
    "    transforms.Resize((32, 48)),\n",
    "    transforms.CenterCrop((32, 32)),\n",
    "    transforms.RandomHorizontalFlip(),\n",
    "    transforms.RandomVerticalFlip(),\n",
    "    transforms.ToTensor(),\n",
    "    transforms.Normalize(mean=0, std=1)\n",
    "])\n",
    "\n",
    "dataset = ImageFolder(root='./dataset/train', transform=Transform)\n",
    "\n",
    "train_size = int(0.8 * len(dataset))\n",
    "validation_size = len(dataset) - train_size\n",
    "train_dataset, validation_dataset = random_split(dataset, [train_size, validation_size])"
   ]
  },
  {
   "cell_type": "code",
   "execution_count": 4,
   "metadata": {},
   "outputs": [],
   "source": [
    "train_loader = DataLoader(train_dataset, batch_size=BATCH_SIZE, shuffle=True)\n",
    "validation_loader = DataLoader(validation_dataset, batch_size=BATCH_SIZE, shuffle=True)"
   ]
  },
  {
   "cell_type": "code",
   "execution_count": 5,
   "metadata": {},
   "outputs": [],
   "source": [
    "model = Autoencoder().to(DEVICE)\n",
    "criterion = nn.MSELoss()\n",
    "optimizer = torch.optim.AdamW(model.parameters())"
   ]
  },
  {
   "cell_type": "code",
   "execution_count": 6,
   "metadata": {},
   "outputs": [],
   "source": [
    "def train(train_loader, optimizer, epoch, train_losses):\n",
    "    model.train()\n",
    "    for batch_idx, (data, _) in enumerate(train_loader):\n",
    "        data = data.to(DEVICE)\n",
    "        output = model(data)\n",
    "        loss = criterion(output, data)\n",
    "        optimizer.zero_grad()\n",
    "        loss.backward()\n",
    "        optimizer.step()\n",
    "        train_losses.append(loss.item())\n",
    "        if (batch_idx + 1) % 30 == 0:\n",
    "            print(\"Epoch:{} [{}/{} ({:.0f}%)]\\tLoss: {:.9f}\".format(\n",
    "                epoch, batch_idx * len(data), len(train_loader.dataset),\n",
    "                100. * batch_idx / len(train_loader), loss.item()))"
   ]
  },
  {
   "cell_type": "code",
   "execution_count": 7,
   "metadata": {},
   "outputs": [],
   "source": [
    "def test(validation_loader, validation_losses):\n",
    "    model.eval()\n",
    "    test_loss = 0.0\n",
    "    with torch.no_grad():\n",
    "        for (data, _) in validation_loader:\n",
    "            data = data.to(DEVICE)\n",
    "            output = model(data)\n",
    "            test_loss += criterion(output, data).item()\n",
    "            pred = output.max(1, keepdim=True)[1]\n",
    "\n",
    "        test_loss /= len(validation_loader)  \n",
    "        validation_losses.append(test_loss)\n",
    "        print(\"Validation set: Average loss: {:.9f}\\n\".format(test_loss))\n",
    "        print('='*50)"
   ]
  },
  {
   "cell_type": "code",
   "execution_count": 8,
   "metadata": {},
   "outputs": [
    {
     "name": "stdout",
     "output_type": "stream",
     "text": [
      "Epoch:1 [1856/8000 (23%)]\tLoss: 0.048233930\n",
      "Epoch:1 [3776/8000 (47%)]\tLoss: 0.015543048\n",
      "Epoch:1 [5696/8000 (71%)]\tLoss: 0.008248938\n",
      "Epoch:1 [7616/8000 (95%)]\tLoss: 0.004963969\n",
      "Validation set: Average loss: 0.004757552\n",
      "\n",
      "==================================================\n",
      "Epoch:2 [1856/8000 (23%)]\tLoss: 0.002810568\n",
      "Epoch:2 [3776/8000 (47%)]\tLoss: 0.001750023\n",
      "Epoch:2 [5696/8000 (71%)]\tLoss: 0.001098937\n",
      "Epoch:2 [7616/8000 (95%)]\tLoss: 0.000787466\n",
      "Validation set: Average loss: 0.000745154\n",
      "\n",
      "==================================================\n",
      "Epoch:3 [1856/8000 (23%)]\tLoss: 0.000580575\n",
      "Epoch:3 [3776/8000 (47%)]\tLoss: 0.000446914\n",
      "Epoch:3 [5696/8000 (71%)]\tLoss: 0.000347877\n",
      "Epoch:3 [7616/8000 (95%)]\tLoss: 0.000298706\n",
      "Validation set: Average loss: 0.000287605\n",
      "\n",
      "==================================================\n",
      "Epoch:4 [1856/8000 (23%)]\tLoss: 0.000270766\n",
      "Epoch:4 [3776/8000 (47%)]\tLoss: 0.000214984\n",
      "Epoch:4 [5696/8000 (71%)]\tLoss: 0.000178760\n",
      "Epoch:4 [7616/8000 (95%)]\tLoss: 0.000180852\n",
      "Validation set: Average loss: 0.000177550\n",
      "\n",
      "==================================================\n",
      "Epoch:5 [1856/8000 (23%)]\tLoss: 0.000155411\n",
      "Epoch:5 [3776/8000 (47%)]\tLoss: 0.000151463\n",
      "Epoch:5 [5696/8000 (71%)]\tLoss: 0.000142917\n",
      "Epoch:5 [7616/8000 (95%)]\tLoss: 0.000129132\n",
      "Validation set: Average loss: 0.000130857\n",
      "\n",
      "==================================================\n",
      "Epoch:6 [1856/8000 (23%)]\tLoss: 0.000107671\n",
      "Epoch:6 [3776/8000 (47%)]\tLoss: 0.000121090\n",
      "Epoch:6 [5696/8000 (71%)]\tLoss: 0.000100886\n",
      "Epoch:6 [7616/8000 (95%)]\tLoss: 0.000098050\n",
      "Validation set: Average loss: 0.000099728\n",
      "\n",
      "==================================================\n",
      "Epoch:7 [1856/8000 (23%)]\tLoss: 0.000086010\n",
      "Epoch:7 [3776/8000 (47%)]\tLoss: 0.000074082\n",
      "Epoch:7 [5696/8000 (71%)]\tLoss: 0.000077616\n",
      "Epoch:7 [7616/8000 (95%)]\tLoss: 0.000072859\n",
      "Validation set: Average loss: 0.000079020\n",
      "\n",
      "==================================================\n",
      "Epoch:8 [1856/8000 (23%)]\tLoss: 0.000071473\n",
      "Epoch:8 [3776/8000 (47%)]\tLoss: 0.000083728\n",
      "Epoch:8 [5696/8000 (71%)]\tLoss: 0.000065926\n",
      "Epoch:8 [7616/8000 (95%)]\tLoss: 0.000071458\n",
      "Validation set: Average loss: 0.000065603\n",
      "\n",
      "==================================================\n",
      "Epoch:9 [1856/8000 (23%)]\tLoss: 0.000059058\n",
      "Epoch:9 [3776/8000 (47%)]\tLoss: 0.000056056\n",
      "Epoch:9 [5696/8000 (71%)]\tLoss: 0.000062226\n",
      "Epoch:9 [7616/8000 (95%)]\tLoss: 0.000055380\n",
      "Validation set: Average loss: 0.000055696\n",
      "\n",
      "==================================================\n",
      "Epoch:10 [1856/8000 (23%)]\tLoss: 0.000054000\n",
      "Epoch:10 [3776/8000 (47%)]\tLoss: 0.000049926\n",
      "Epoch:10 [5696/8000 (71%)]\tLoss: 0.000047563\n",
      "Epoch:10 [7616/8000 (95%)]\tLoss: 0.000049795\n",
      "Validation set: Average loss: 0.000049619\n",
      "\n",
      "==================================================\n",
      "Epoch:11 [1856/8000 (23%)]\tLoss: 0.000047836\n",
      "Epoch:11 [3776/8000 (47%)]\tLoss: 0.000043793\n",
      "Epoch:11 [5696/8000 (71%)]\tLoss: 0.000044811\n",
      "Epoch:11 [7616/8000 (95%)]\tLoss: 0.000047953\n",
      "Validation set: Average loss: 0.000042785\n",
      "\n",
      "==================================================\n",
      "Epoch:12 [1856/8000 (23%)]\tLoss: 0.000034684\n",
      "Epoch:12 [3776/8000 (47%)]\tLoss: 0.000033984\n",
      "Epoch:12 [5696/8000 (71%)]\tLoss: 0.000039215\n",
      "Epoch:12 [7616/8000 (95%)]\tLoss: 0.000039453\n",
      "Validation set: Average loss: 0.000042228\n",
      "\n",
      "==================================================\n",
      "Epoch:13 [1856/8000 (23%)]\tLoss: 0.000042210\n",
      "Epoch:13 [3776/8000 (47%)]\tLoss: 0.000031026\n",
      "Epoch:13 [5696/8000 (71%)]\tLoss: 0.000027445\n",
      "Epoch:13 [7616/8000 (95%)]\tLoss: 0.000037876\n",
      "Validation set: Average loss: 0.000038501\n",
      "\n",
      "==================================================\n",
      "Epoch:14 [1856/8000 (23%)]\tLoss: 0.000029045\n",
      "Epoch:14 [3776/8000 (47%)]\tLoss: 0.000026929\n",
      "Epoch:14 [5696/8000 (71%)]\tLoss: 0.000027235\n",
      "Epoch:14 [7616/8000 (95%)]\tLoss: 0.000028691\n",
      "Validation set: Average loss: 0.000027575\n",
      "\n",
      "==================================================\n",
      "Epoch:15 [1856/8000 (23%)]\tLoss: 0.000028284\n",
      "Epoch:15 [3776/8000 (47%)]\tLoss: 0.000034859\n",
      "Epoch:15 [5696/8000 (71%)]\tLoss: 0.000029929\n",
      "Epoch:15 [7616/8000 (95%)]\tLoss: 0.000024690\n",
      "Validation set: Average loss: 0.000030583\n",
      "\n",
      "==================================================\n",
      "Epoch:16 [1856/8000 (23%)]\tLoss: 0.000021474\n",
      "Epoch:16 [3776/8000 (47%)]\tLoss: 0.000024497\n",
      "Epoch:16 [5696/8000 (71%)]\tLoss: 0.000021470\n",
      "Epoch:16 [7616/8000 (95%)]\tLoss: 0.000021989\n",
      "Validation set: Average loss: 0.000022642\n",
      "\n",
      "==================================================\n",
      "Epoch:17 [1856/8000 (23%)]\tLoss: 0.000027901\n",
      "Epoch:17 [3776/8000 (47%)]\tLoss: 0.000024724\n",
      "Epoch:17 [5696/8000 (71%)]\tLoss: 0.000021619\n",
      "Epoch:17 [7616/8000 (95%)]\tLoss: 0.000020208\n",
      "Validation set: Average loss: 0.000020509\n",
      "\n",
      "==================================================\n",
      "Epoch:18 [1856/8000 (23%)]\tLoss: 0.000018271\n",
      "Epoch:18 [3776/8000 (47%)]\tLoss: 0.000020731\n",
      "Epoch:18 [5696/8000 (71%)]\tLoss: 0.000020079\n",
      "Epoch:18 [7616/8000 (95%)]\tLoss: 0.000015416\n",
      "Validation set: Average loss: 0.000019275\n",
      "\n",
      "==================================================\n",
      "Epoch:19 [1856/8000 (23%)]\tLoss: 0.000016234\n",
      "Epoch:19 [3776/8000 (47%)]\tLoss: 0.000018911\n",
      "Epoch:19 [5696/8000 (71%)]\tLoss: 0.000019262\n",
      "Epoch:19 [7616/8000 (95%)]\tLoss: 0.000021075\n",
      "Validation set: Average loss: 0.000019883\n",
      "\n",
      "==================================================\n",
      "Epoch:20 [1856/8000 (23%)]\tLoss: 0.000018892\n",
      "Epoch:20 [3776/8000 (47%)]\tLoss: 0.000016585\n",
      "Epoch:20 [5696/8000 (71%)]\tLoss: 0.000015399\n",
      "Epoch:20 [7616/8000 (95%)]\tLoss: 0.000013676\n",
      "Validation set: Average loss: 0.000017069\n",
      "\n",
      "==================================================\n"
     ]
    }
   ],
   "source": [
    "train_losses = []\n",
    "validation_losses = []\n",
    "\n",
    "for epoch in range(1, EPOCHS+1):\n",
    "    train(train_loader, optimizer, epoch, train_losses)\n",
    "    test(validation_loader, validation_losses)"
   ]
  },
  {
   "cell_type": "code",
   "execution_count": 9,
   "metadata": {},
   "outputs": [],
   "source": [
    "test_transform = transforms.Compose([\n",
    "    transforms.Resize((32, 48)),\n",
    "    transforms.CenterCrop((32, 32)),\n",
    "    transforms.ToTensor(),\n",
    "    transforms.Normalize(mean=0, std=1)\n",
    "])\n",
    "\n",
    "proliv_dataset = ImageFolder(root='./dataset/proliv/', transform=test_transform)\n",
    "proliv_loader = DataLoader(proliv_dataset, batch_size=2, shuffle=False)"
   ]
  },
  {
   "cell_type": "code",
   "execution_count": 10,
   "metadata": {},
   "outputs": [],
   "source": [
    "model.eval()\n",
    "proliv = []\n",
    "\n",
    "with torch.no_grad():\n",
    "    for images, _ in proliv_loader:\n",
    "        images = images.to(DEVICE)\n",
    "        outputs = model(images)\n",
    "        loss = criterion(outputs, images)\n",
    "        proliv.append(loss.item())"
   ]
  },
  {
   "cell_type": "code",
   "execution_count": 11,
   "metadata": {},
   "outputs": [
    {
     "name": "stdout",
     "output_type": "stream",
     "text": [
      "3.717735307873227e-05\n"
     ]
    }
   ],
   "source": [
    "proliv_min = min(proliv)\n",
    "print(proliv_min)"
   ]
  },
  {
   "cell_type": "code",
   "execution_count": 12,
   "metadata": {},
   "outputs": [
    {
     "name": "stdout",
     "output_type": "stream",
     "text": [
      "3794\n"
     ]
    }
   ],
   "source": [
    "test_dataset = ImageFolder(root='./dataset/test/imgs/', transform=test_transform)\n",
    "test_loader = DataLoader(test_dataset, batch_size=1, shuffle=True)\n",
    "\n",
    "print(len(test_dataset))"
   ]
  },
  {
   "cell_type": "code",
   "execution_count": 13,
   "metadata": {},
   "outputs": [],
   "source": [
    "model.eval()\n",
    "\n",
    "true_labels = []\n",
    "predicted_labels = []\n",
    "test_losses = []\n",
    "\n",
    "with torch.no_grad():\n",
    "    for images, label in test_loader:\n",
    "        images = images.to(DEVICE)\n",
    "        outputs = model(images)\n",
    "        loss = criterion(outputs, images)\n",
    "        true_labels.append(label)\n",
    "        test_losses.append(loss.item())\n",
    "        predicted_labels.append(loss.item() > proliv_min)"
   ]
  },
  {
   "cell_type": "code",
   "execution_count": 14,
   "metadata": {},
   "outputs": [
    {
     "name": "stdout",
     "output_type": "stream",
     "text": [
      "Accuracy per class:  [0.92796726 0.99224806]\n",
      "Precision per class:  [0.99970606 0.32653061]\n",
      "Recall per class:  [0.92796726 0.99224806]\n",
      "F1 per class:  [0.96250177 0.49136276]\n"
     ]
    },
    {
     "data": {
      "text/plain": [
       "<Axes: >"
      ]
     },
     "execution_count": 14,
     "metadata": {},
     "output_type": "execute_result"
    },
    {
     "data": {
      "image/png": "[encoded data removed]",
      "text/plain": [
       "<Figure size 640x480 with 1 Axes>"
      ]
     },
     "metadata": {},
     "output_type": "display_data"
    }
   ],
   "source": [
    "confusion = confusion_matrix(true_labels, predicted_labels)\n",
    "total_samples_per_class = confusion.sum(axis=1)\n",
    "\n",
    "print(\"Accuracy per class: \", confusion.diagonal()/total_samples_per_class)\n",
    "print(\"Precision per class: \", precision_score(true_labels,  predicted_labels, average = None))\n",
    "print(\"Recall per class: \", recall_score(true_labels,  predicted_labels, average = None))\n",
    "print(\"F1 per class: \", f1_score(true_labels,  predicted_labels, average = None))\n",
    "\n",
    "tn, fp, fn, tp = confusion.ravel()\n",
    "sns.heatmap(confusion, cbar = False, annot = True)"
   ]
  },
  {
   "cell_type": "code",
   "execution_count": 15,
   "metadata": {},
   "outputs": [
    {
     "data": {
      "text/plain": [
       "0.9922480620155039"
      ]
     },
     "execution_count": 15,
     "metadata": {},
     "output_type": "execute_result"
    }
   ],
   "source": [
    "tpr = tp / (tp + fn)\n",
    "tpr"
   ]
  },
  {
   "cell_type": "code",
   "execution_count": 16,
   "metadata": {},
   "outputs": [
    {
     "data": {
      "text/plain": [
       "0.9279672578444748"
      ]
     },
     "execution_count": 16,
     "metadata": {},
     "output_type": "execute_result"
    }
   ],
   "source": [
    "tnr = tn / (tn + fp)\n",
    "tnr"
   ]
  },
  {
   "cell_type": "code",
   "execution_count": 17,
   "metadata": {},
   "outputs": [
    {
     "data": {
      "text/plain": [
       "[<matplotlib.lines.Line2D at 0x177a3b880>]"
      ]
     },
     "execution_count": 17,
     "metadata": {},
     "output_type": "execute_result"
    },
    {
     "data": {
      "image/png": "[encoded data removed]",
      "text/plain": [
       "<Figure size 640x480 with 1 Axes>"
      ]
     },
     "metadata": {},
     "output_type": "display_data"
    }
   ],
   "source": [
    "plt.title('Train losses')\n",
    "plt.plot(train_losses)"
   ]
  }
 ],
 "metadata": {
  "kernelspec": {
   "display_name": "Python 3",
   "language": "python",
   "name": "python3"
  },
  "language_info": {
   "codemirror_mode": {
    "name": "ipython",
    "version": 3
   },
   "file_extension": ".py",
   "mimetype": "text/x-python",
   "name": "python",
   "nbconvert_exporter": "python",
   "pygments_lexer": "ipython3",
   "version": "3.9.6"
  }
 },
 "nbformat": 4,
 "nbformat_minor": 2
}
